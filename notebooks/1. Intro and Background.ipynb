{
 "cells": [
  {
   "cell_type": "markdown",
   "metadata": {
    "slideshow": {
     "slide_type": "slide"
    }
   },
   "source": [
    "# Connected: A Social Network Analysis Tutorial with NetworkX\n",
    "\n",
    "__Presenters__: Rob Chew & Peter Baumgartner\n",
    "\n",
    "#### Installation\n",
    "\n",
    "``` bash\n",
    "$ git clone https://github.com/rtidatascience/connected-nx-tutorial.git\n",
    "$ cd connected-nx-tutorial\n",
    "$ conda env create -f environment.yml\n",
    "$ source activate connected\n",
    "```"
   ]
  },
  {
   "cell_type": "markdown",
   "metadata": {
    "slideshow": {
     "slide_type": "slide"
    }
   },
   "source": [
    "## Outline\n",
    "- Introduction & Background\n",
    "- Creating Graphs\n",
    "- Visualizing Graphs\n",
    "- Centrality\n",
    "- Link Prediction\n",
    "- Community"
   ]
  },
  {
   "cell_type": "markdown",
   "metadata": {
    "slideshow": {
     "slide_type": "slide"
    }
   },
   "source": [
    "# What is Social Network Analysis? \n",
    "\n",
    "- Examples\n",
    "    - Zachary's Karate Club\n",
    "    - Florentine Marriages \n",
    "    - Semantic Text Network\n",
    "- Definitions\n"
   ]
  },
  {
   "cell_type": "markdown",
   "metadata": {
    "slideshow": {
     "slide_type": "slide"
    }
   },
   "source": [
    "## Examples\n",
    "### Zachary's Karate Club Network\n",
    "> The *Iris* dataset of social network analysis\n",
    "\n",
    "<center><img src=\"https://upload.wikimedia.org/wikipedia/commons/2/2b/Karate_Cuneyt_Akcora.png\" width=\"300\"></center>\n",
    "\n",
    "A social network of a karate club was studied by Wayne W. Zachary for a period of three years from 1970 to 1972. The network captures 34 members of a karate club, documenting 78 pairwise links between members who interacted **outside** the club. During the study a conflict arose which led to the split of the club into two. Based on collected data Zachary assigned correctly all but one member of the club to the groups they actually joined after the split."
   ]
  },
  {
   "cell_type": "markdown",
   "metadata": {
    "slideshow": {
     "slide_type": "skip"
    }
   },
   "source": [
    "There is even a [Zachary's Karate Club CLUB](http://networkkarate.tumblr.com/), which awards a trophy to the first person at a network conference to use Zachary's Karate Club Network as an example"
   ]
  },
  {
   "cell_type": "markdown",
   "metadata": {
    "slideshow": {
     "slide_type": "subslide"
    }
   },
   "source": [
    "### 15th Century Florentine Marriages\n",
    "\n",
    "<center><img src=\"https://upload.wikimedia.org/wikipedia/commons/thumb/2/20/15th_Century_Florentine_Marriges_Data_from_Padgett_and_Ansell.pdf/page1-577px-15th_Century_Florentine_Marriges_Data_from_Padgett_and_Ansell.pdf.jpg\" width=\"450\"></center>\n",
    "\n",
    "[[Padgett and Ansell, 1993](http://home.uchicago.edu/~jpadgett/papers/published/robust.pdf)]\n",
    "\n",
    "The graph above is a marriage network of 16 influential Florentian families in the 1430s.  At this time in Renaissance Italy, the major families were essentially an oligarchy, controlling politics and money in the region."
   ]
  },
  {
   "cell_type": "markdown",
   "metadata": {
    "slideshow": {
     "slide_type": "skip"
    }
   },
   "source": [
    "Based on this network, can you surmise which family ascended to power in the proceeding decades?\n",
    "\n",
    "By examining the right networks, we can understand which actors are the most central.  In this case, the network forecasts the Rise of the Medici's, even though they were not the most wealthy or most politically connected family at the time."
   ]
  },
  {
   "cell_type": "markdown",
   "metadata": {
    "slideshow": {
     "slide_type": "subslide"
    }
   },
   "source": [
    "### Semantic Text Network\n",
    "\n",
    "<center><img src=\"http://noduslabs.com/wp-content/uploads/2011/12/figure-5-meaning-circulation.png\" width=\"400\"></center>\n",
    "\n",
    "A network of words in a document, connected and weighted by the frequency of appearance within 2-word and 5-word windows.\n",
    "\n",
    "[Paranyushkin, D. (2011). Identifying the pathways for meaning circulation using text network analysis. Berlin: Nodus Labs](http://noduslabs.com/research/pathways-meaning-circulation-text-network-analysis/)"
   ]
  },
  {
   "cell_type": "markdown",
   "metadata": {
    "collapsed": true,
    "slideshow": {
     "slide_type": "slide"
    }
   },
   "source": [
    "### Definitions\n",
    "\n",
    "<img style=\"float: left; margin: 10px\" src=\"http://revolution-computing.typepad.com/.a/6a010534b1db25970b0147e0ae51b2970b-800wi\" width=\"400\">\n",
    "\n",
    "__Network__: a pattern of interconnections among a set of things [[Source](http://www.cs.cornell.edu/home/kleinber/networks-book/networks-book-ch01.pdf)]\n",
    "\n",
    "__Social Network__: a network where the *things* are people and the *interconnections* are social interactions\n",
    "\n",
    "__Social Network Analysis__ (SNA): the application of _graph and network theory_ to investigate social structures.\n",
    "\n",
    "__Graph Theory:__ the study of graphs, which are mathematical structures used to model pairwise relations between objects.\n",
    "\n",
    "__Network Theory:__ the study of complex interacting systems that can be represented as graphs equipped with extra structure."
   ]
  },
  {
   "cell_type": "markdown",
   "metadata": {
    "slideshow": {
     "slide_type": "subslide"
    }
   },
   "source": [
    "### Parts of Graphs\n",
    "\n",
    "<img style=\"float: left;\" src=\"http://i.imgur.com/upMNKXf.png\" width=\"400\">\n",
    "\n",
    "__Node / Vertex__: The entity of analysis which has a relationship. Node is used in the network context, vertex is used in the graph theory context, but both terms are often used interchangeably.\n",
    "\n",
    "__Link / Edge / Relationship__: The connections between the nodes. Link is used in the network context, edge is used in the graph theory context, and all words are used interchangably with *relationship*.\n",
    "\n",
    "__Attributes__: Both nodes and edges can store attributes, which contain additional data about that object.\n",
    "\n",
    "__Weight__: A common *attribute* of edges, used to indicate *strength* or *value* of a relationship.\n",
    "\n",
    "__Degree__: Number of edges a node has."
   ]
  },
  {
   "cell_type": "markdown",
   "metadata": {
    "slideshow": {
     "slide_type": "subslide"
    }
   },
   "source": [
    "### Types of Graphs\n",
    "\n",
    "Graphs are typically classified based on the presence of weights and direction attached to the edges in a graph. The table below covers what we call each type of graph:\n",
    "\n",
    "|                | Absent     | Present  |\n",
    "|----------------|------------|----------|\n",
    "| __Weights__ | Unweighted | Weighted |\n",
    "| __Directionality__ | Undirected | Directed |\n",
    "\n",
    "__Additional flavors__: parallel edges, self-loops, *n*-partite graphs\n",
    "\n",
    "In context:\n",
    "> We are talking about a(n) __\\[unweighted/weighted\\]__ __\\[undirected/directed\\]__ graph (with __\\[parallel edges | self loops\\]__).\n",
    "\n",
    "---"
   ]
  },
  {
   "cell_type": "markdown",
   "metadata": {
    "slideshow": {
     "slide_type": "slide"
    }
   },
   "source": [
    "__Network__: a pattern of interconnections among a set of things"
   ]
  }
 ],
 "metadata": {
  "celltoolbar": "Slideshow",
  "kernelspec": {
   "display_name": "Python 3",
   "language": "python",
   "name": "python3"
  },
  "language_info": {
   "codemirror_mode": {
    "name": "ipython",
    "version": 3
   },
   "file_extension": ".py",
   "mimetype": "text/x-python",
   "name": "python",
   "nbconvert_exporter": "python",
   "pygments_lexer": "ipython3",
   "version": "3.5.2"
  }
 },
 "nbformat": 4,
 "nbformat_minor": 0
}
