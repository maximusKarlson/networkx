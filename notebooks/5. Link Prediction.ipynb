{
 "cells": [
  {
   "cell_type": "markdown",
   "metadata": {
    "slideshow": {
     "slide_type": "slide"
    }
   },
   "source": [
    "# Link Prediction\n",
    "\n",
    "- Definition of Link Prediction\n",
    "- Perform link prediction on dataset\n",
    "   - Jaccard coefficient\n",
    "   - Preferential Attachment\n",
    "\n",
    "![](https://content.linkedin.com/content/dam/engineering/en-us/blog/migrated/link_prediction.jpg)"
   ]
  },
  {
   "cell_type": "code",
   "execution_count": 1,
   "metadata": {
    "collapsed": true,
    "slideshow": {
     "slide_type": "subslide"
    }
   },
   "outputs": [],
   "source": [
    "import networkx as nx\n",
    "import matplotlib.pyplot as plt # for plotting graphs\n",
    "%matplotlib inline"
   ]
  },
  {
   "cell_type": "code",
   "execution_count": 2,
   "metadata": {
    "collapsed": true,
    "slideshow": {
     "slide_type": "fragment"
    }
   },
   "outputs": [],
   "source": [
    "GA = nx.read_gexf('../data/ga_graph.gexf')"
   ]
  },
  {
   "cell_type": "markdown",
   "metadata": {
    "slideshow": {
     "slide_type": "skip"
    }
   },
   "source": [
    "## Link Prediction\n",
    "\n",
    "The idea of link prediction was first proposed by [Liben-Nowell and Kleinberg in 2004](https://www.cs.cornell.edu/home/kleinber/link-pred.pdf) as the following question:\n",
    "\n",
    "> \"Given a snapshot of a social network, can we infer which new interactions among its members are likely to occur in the near future?\"\n",
    "\n",
    "It's an inticing idea and has led to many interesting developments in the network literature. For our example, the question could be rephrased as:\n",
    "\n",
    "> \"Given a snapshot of the Grey's Anatomy relationship network, can we infer which new relationships are likely to occur in the near future?\"\n",
    "\n",
    "Sounds awesome, but how does it work? "
   ]
  },
  {
   "cell_type": "markdown",
   "metadata": {
    "slideshow": {
     "slide_type": "slide"
    }
   },
   "source": [
    "## Jaccard Coefficient\n",
    "\n",
    "The most popular measures for link prediction analyze the “proximity” of nodes in a network. One way to measure proximity is to see what proportion of neighbors a pair of nodes share.  This can be capture succintly with the Jaccard index.  \n",
    "\n",
    "![](https://upload.wikimedia.org/math/0/a/0/0a0633ce67c9130d890078a8d67f0474.png)\n",
    "\n",
    "![](https://upload.wikimedia.org/wikipedia/commons/thumb/1/1f/Intersection_of_sets_A_and_B.svg/250px-Intersection_of_sets_A_and_B.svg.png)\n",
    "\n",
    "In the context of a network, we're comparing sets of neighbors:\n",
    "\n",
    "$$ Jaccard = \\frac{|\\Gamma(u) \\cap \\Gamma(v)|}{|\\Gamma(u) \\cup \\Gamma(v)|} $$\n",
    "\n",
    "where $\\Gamma(u)$ denotes the set of neighbors of $u$."
   ]
  },
  {
   "cell_type": "code",
   "execution_count": 3,
   "metadata": {
    "collapsed": false,
    "slideshow": {
     "slide_type": "subslide"
    }
   },
   "outputs": [],
   "source": [
    "preds_jc = nx.jaccard_coefficient(GA)"
   ]
  },
  {
   "cell_type": "code",
   "execution_count": 4,
   "metadata": {
    "collapsed": false,
    "slideshow": {
     "slide_type": "fragment"
    }
   },
   "outputs": [],
   "source": [
    "pred_jc_dict = {}\n",
    "for u, v, p in preds_jc:\n",
    "    pred_jc_dict[(u,v)] = p"
   ]
  },
  {
   "cell_type": "code",
   "execution_count": 5,
   "metadata": {
    "collapsed": false,
    "slideshow": {
     "slide_type": "fragment"
    }
   },
   "outputs": [
    {
     "data": {
      "text/plain": [
       "[(('kepner', 'mrs. seabury'), 1.0),\n",
       " (('colin', 'preston'), 1.0),\n",
       " (('denny', 'hank'), 1.0),\n",
       " (('finn', 'steve'), 1.0),\n",
       " (('tucker', 'ben'), 1.0),\n",
       " (('ellis grey', 'susan grey'), 0.5),\n",
       " (('derek', 'finn'), 0.5),\n",
       " (('mrs. seabury', 'olivia'), 0.5),\n",
       " (('addison', 'lexi'), 0.5),\n",
       " (('owen', 'preston'), 0.5)]"
      ]
     },
     "execution_count": 5,
     "metadata": {},
     "output_type": "execute_result"
    }
   ],
   "source": [
    "sorted(pred_jc_dict.items(), key=lambda x:x[1], reverse=True)[:10]"
   ]
  },
  {
   "cell_type": "code",
   "execution_count": 6,
   "metadata": {
    "collapsed": false,
    "slideshow": {
     "slide_type": "skip"
    }
   },
   "outputs": [],
   "source": [
    "extra_attrs = {'finn':('Finn Dandridge','M','S'),\n",
    " 'olivia':('Olivia Harper','F','S'),\n",
    " 'steve':('Steve Murphy','M','S'),\n",
    " 'torres':('Callie Torres','F','B'),\n",
    " 'colin':('Colin Marlow','M','S'),\n",
    " 'grey':('Meredith Grey','F','S'),\n",
    " 'mrs. seabury':('Dana Seabury','F','S'),\n",
    " 'altman':('Teddy Altman','F','S'),\n",
    " 'tucker':('Tucker Jones','M','S'),\n",
    " 'ben':('Ben Warren','M','S'),\n",
    " \"o'malley\":(\"George O'Malley\",'M','S'),\n",
    " 'thatch grey':('Thatcher Grey','M','S'),\n",
    " 'susan grey':('Susan Grey','F','S'),\n",
    " 'derek':('Derek Shepherd','M','S'),\n",
    " 'chief':('Richard Webber','M','S'),\n",
    " 'addison':('Addison Montgomery','F','S'),\n",
    " 'karev':('Alex Karev','M','S'),\n",
    " 'hank':('Hank','M','S'),\n",
    " 'lexi':('Lexie Grey','F','S'),\n",
    " 'adele':('Adele Webber','F','S'),\n",
    " 'owen':('Owen Hunt','M','S'),\n",
    " 'sloan':('Mark Sloan','M','S'),\n",
    " 'arizona':('Arizona Robbins','F','G'),\n",
    " 'izzie':('Izzie Stevens','F','S'),\n",
    " 'preston':('Preston Burke','M','S'),\n",
    " 'kepner':('April Kepner','M','S'),\n",
    " 'bailey':('Miranda Bailey','F','S'),\n",
    " 'ellis grey':('Ellis Grey','F','S'),\n",
    " 'denny':('Denny Duquette','M','S'),\n",
    " 'yang':('Cristina Yang','F','S'),\n",
    " 'nancy':('Nancy Shepherd','F','S'),\n",
    " 'avery':('Jackson Avery','M','S')}"
   ]
  },
  {
   "cell_type": "code",
   "execution_count": 7,
   "metadata": {
    "collapsed": false,
    "slideshow": {
     "slide_type": "skip"
    }
   },
   "outputs": [],
   "source": [
    "for i in GA.nodes():\n",
    "    GA.node[i][\"full_name\"]   = extra_attrs[i][0]\n",
    "    GA.node[i][\"gender\"]      = extra_attrs[i][1]\n",
    "    GA.node[i][\"orientation\"] = extra_attrs[i][2]"
   ]
  },
  {
   "cell_type": "code",
   "execution_count": 8,
   "metadata": {
    "collapsed": false,
    "slideshow": {
     "slide_type": "skip"
    }
   },
   "outputs": [
    {
     "data": {
      "text/plain": [
       "{'full_name': 'Meredith Grey',\n",
       " 'gender': 'F',\n",
       " 'label': 'grey',\n",
       " 'orientation': 'S'}"
      ]
     },
     "execution_count": 8,
     "metadata": {},
     "output_type": "execute_result"
    }
   ],
   "source": [
    "GA.node['grey']"
   ]
  },
  {
   "cell_type": "markdown",
   "metadata": {
    "slideshow": {
     "slide_type": "slide"
    }
   },
   "source": [
    "## Preferential Attachment\n",
    "\n",
    "The preferential attachement methods mirrors the “rich get richer” -- nodes with more connections will be the ones to be more likely to get future connections. \n",
    "\n",
    "![](http://www.frumforum.com/wp-content/uploads/2011/10/rich1.jpg)\n",
    "\n",
    "Essentially, the measure is the product of a node pairs degrees:\n",
    "\n",
    "$$ PA = |\\Gamma(u)| \\bullet |\\Gamma(v)|$$\n",
    "\n",
    "where $\\Gamma(u)$ denotes the set of neighbors (_degree_) of $u$."
   ]
  },
  {
   "cell_type": "code",
   "execution_count": 9,
   "metadata": {
    "collapsed": true,
    "slideshow": {
     "slide_type": "subslide"
    }
   },
   "outputs": [],
   "source": [
    "preds_pa = nx.preferential_attachment(GA)"
   ]
  },
  {
   "cell_type": "code",
   "execution_count": 10,
   "metadata": {
    "collapsed": false,
    "slideshow": {
     "slide_type": "fragment"
    }
   },
   "outputs": [],
   "source": [
    "pred_pa_dict = {}\n",
    "for u, v, p in preds_pa:\n",
    "    pred_pa_dict[(u,v)] = p"
   ]
  },
  {
   "cell_type": "code",
   "execution_count": 11,
   "metadata": {
    "collapsed": false,
    "slideshow": {
     "slide_type": "subslide"
    }
   },
   "outputs": [
    {
     "data": {
      "text/plain": [
       "[(('sloan', 'karev'), 35),\n",
       " (('grey', 'karev'), 28),\n",
       " ((\"o'malley\", 'karev'), 28),\n",
       " (('yang', 'karev'), 21),\n",
       " ((\"o'malley\", 'sloan'), 20),\n",
       " (('sloan', 'izzie'), 20),\n",
       " (('grey', 'sloan'), 20),\n",
       " (('izzie', 'torres'), 16),\n",
       " (('grey', 'izzie'), 16),\n",
       " (('grey', 'torres'), 16)]"
      ]
     },
     "execution_count": 11,
     "metadata": {},
     "output_type": "execute_result"
    }
   ],
   "source": [
    "sorted(pred_pa_dict.items(), key=lambda x:x[1], reverse=True)[:10]"
   ]
  },
  {
   "cell_type": "markdown",
   "metadata": {
    "collapsed": true,
    "slideshow": {
     "slide_type": "slide"
    }
   },
   "source": [
    "## Other Link Prediction Algorithms\n",
    "\n",
    "* [Common Neighbors](https://www.cs.cornell.edu/home/kleinber/link-pred.pdf)\n",
    "* [Resource Allocation Index](https://networkx.github.io/documentation/development/reference/generated/networkx.algorithms.link_prediction.adamic_adar_index.html)\n",
    "* [Adamic-Adar index](https://networkx.github.io/documentation/development/reference/generated/networkx.algorithms.link_prediction.adamic_adar_index.html)"
   ]
  }
 ],
 "metadata": {
  "celltoolbar": "Slideshow",
  "kernelspec": {
   "display_name": "Python 3",
   "language": "python",
   "name": "python3"
  },
  "language_info": {
   "codemirror_mode": {
    "name": "ipython",
    "version": 3
   },
   "file_extension": ".py",
   "mimetype": "text/x-python",
   "name": "python",
   "nbconvert_exporter": "python",
   "pygments_lexer": "ipython3",
   "version": "3.5.2"
  }
 },
 "nbformat": 4,
 "nbformat_minor": 0
}
