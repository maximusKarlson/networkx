{
 "cells": [
  {
   "cell_type": "markdown",
   "metadata": {
    "slideshow": {
     "slide_type": "slide"
    }
   },
   "source": [
    "# Centrality\n",
    "\n",
    "- Definition of Centrality\n",
    "- Compare and contrast popular centrality measures on dataset\n",
    "    - Degree\n",
    "    - Closeness\n",
    "    - Betweenness\n",
    "    - Eigenvector\n",
    "\n",
    "<img width=\"500\" src=\"https://upload.wikimedia.org/wikipedia/commons/thumb/6/60/Graph_betweenness.svg/2000px-Graph_betweenness.svg.png\">"
   ]
  },
  {
   "cell_type": "code",
   "execution_count": 1,
   "metadata": {
    "collapsed": true,
    "slideshow": {
     "slide_type": "subslide"
    }
   },
   "outputs": [],
   "source": [
    "import networkx as nx\n",
    "import matplotlib.pyplot as plt\n",
    "%matplotlib inline"
   ]
  },
  {
   "cell_type": "code",
   "execution_count": 2,
   "metadata": {
    "collapsed": true,
    "slideshow": {
     "slide_type": "fragment"
    }
   },
   "outputs": [],
   "source": [
    "GA = nx.read_gexf('../data/ga_graph.gexf')"
   ]
  },
  {
   "cell_type": "markdown",
   "metadata": {
    "slideshow": {
     "slide_type": "slide"
    }
   },
   "source": [
    "## Degree Centrality\n",
    "\n",
    "The __degree__ of a node is the number of other nodes to which it is connected. \n",
    "\n",
    "![](https://www.openabm.org/files/books/1928/fig102.png)\n",
    "\n",
    "NetworkX's degree centrality is calculated by taking the degree of the node and dividing by `n-1` where where `n` is the number of nodes in `G`.\n",
    "\n",
    "$$ {C_D (u)} = \\frac{deg(u)}{{n-1}} $$\n",
    "\n",
    "⚠️ __NOTE__: `In a directed graph, both in-degree and out-degree centrality can be calculated.`"
   ]
  },
  {
   "cell_type": "markdown",
   "metadata": {
    "slideshow": {
     "slide_type": "skip"
    }
   },
   "source": [
    "Let's find the degree of our main character `Grey`."
   ]
  },
  {
   "cell_type": "code",
   "execution_count": 3,
   "metadata": {
    "collapsed": false,
    "slideshow": {
     "slide_type": "skip"
    }
   },
   "outputs": [
    {
     "data": {
      "text/plain": [
       "4"
      ]
     },
     "execution_count": 3,
     "metadata": {},
     "output_type": "execute_result"
    }
   ],
   "source": [
    "GA.degree(\"grey\")"
   ]
  },
  {
   "cell_type": "markdown",
   "metadata": {
    "slideshow": {
     "slide_type": "skip"
    }
   },
   "source": [
    "Likewise, we can find the degree of each cast member."
   ]
  },
  {
   "cell_type": "code",
   "execution_count": 4,
   "metadata": {
    "collapsed": false,
    "slideshow": {
     "slide_type": "skip"
    }
   },
   "outputs": [
    {
     "data": {
      "text/plain": [
       "{'addison': 3,\n",
       " 'adele': 1,\n",
       " 'altman': 2,\n",
       " 'arizona': 1,\n",
       " 'avery': 1,\n",
       " 'bailey': 2,\n",
       " 'ben': 1,\n",
       " 'chief': 2,\n",
       " 'colin': 1,\n",
       " 'denny': 1,\n",
       " 'derek': 2,\n",
       " 'ellis grey': 2,\n",
       " 'finn': 1,\n",
       " 'grey': 4,\n",
       " 'hank': 1,\n",
       " 'izzie': 4,\n",
       " 'karev': 7,\n",
       " 'kepner': 1,\n",
       " 'lexi': 3,\n",
       " 'mrs. seabury': 1,\n",
       " 'nancy': 1,\n",
       " \"o'malley\": 4,\n",
       " 'olivia': 2,\n",
       " 'owen': 2,\n",
       " 'preston': 1,\n",
       " 'sloan': 5,\n",
       " 'steve': 1,\n",
       " 'susan grey': 1,\n",
       " 'thatch grey': 2,\n",
       " 'torres': 4,\n",
       " 'tucker': 1,\n",
       " 'yang': 3}"
      ]
     },
     "execution_count": 4,
     "metadata": {},
     "output_type": "execute_result"
    }
   ],
   "source": [
    "# See all of them (ok on this small graph)\n",
    "GA.degree()"
   ]
  },
  {
   "cell_type": "code",
   "execution_count": 5,
   "metadata": {
    "collapsed": false,
    "slideshow": {
     "slide_type": "skip"
    }
   },
   "outputs": [
    {
     "data": {
      "text/plain": [
       "[('karev', 7), ('sloan', 5), ('grey', 4), (\"o'malley\", 4), ('izzie', 4)]"
      ]
     },
     "execution_count": 5,
     "metadata": {},
     "output_type": "execute_result"
    }
   ],
   "source": [
    "# Here's the top 5.\n",
    "sorted(GA.degree().items(), key=lambda x:x[1], reverse=True)[:5]"
   ]
  },
  {
   "cell_type": "markdown",
   "metadata": {
    "slideshow": {
     "slide_type": "notes"
    }
   },
   "source": [
    "While knowing the raw number is great, most centrality measures are _normalized_ between zero and one so that they can be more easily compared to one another.\n",
    "\n",
    "For the **degree centrality** measure, the normalized interpretion is really intuitive:  \n",
    "\n",
    "> _What percentage of nodes is this node connected to?_\n",
    "\n",
    "Or for our Grey's Anatomy example: \n",
    "\n",
    "> _What percentage of the cast has this character been invovled with?_\n",
    "\n",
    "\n"
   ]
  },
  {
   "cell_type": "markdown",
   "metadata": {
    "slideshow": {
     "slide_type": "skip"
    }
   },
   "source": [
    "Let's calculate the degree centrality for `Grey`."
   ]
  },
  {
   "cell_type": "code",
   "execution_count": 6,
   "metadata": {
    "collapsed": false,
    "slideshow": {
     "slide_type": "skip"
    }
   },
   "outputs": [
    {
     "name": "stdout",
     "output_type": "stream",
     "text": [
      "Calculated degree centrality for Grey: 0.12903225806451613\n",
      "Networkx degree centrality for Grey: 0.12903225806451613\n"
     ]
    },
    {
     "data": {
      "text/plain": [
       "'Values match, good job!'"
      ]
     },
     "execution_count": 6,
     "metadata": {},
     "output_type": "execute_result"
    }
   ],
   "source": [
    "# Degree for the 'Grey' node\n",
    "degree_grey = GA.degree(\"grey\")  # 4 romantic partners\n",
    "\n",
    "# Total number of nodes (excluding Grey) \n",
    "total_nodes_minus_grey = len(GA.nodes())-1  # 31 characters in the cast, excluding Grey\n",
    "\n",
    "# Degree centrality for Grey\n",
    "degree_centrality_grey = (degree_grey / total_nodes_minus_grey)\n",
    "print(\"Calculated degree centrality for Grey:\", degree_centrality_grey)\n",
    "\n",
    "# Double check\n",
    "print(\"Networkx degree centrality for Grey:\", nx.degree_centrality(GA)[\"grey\"])\n",
    "\n",
    "def check_equal(val1, val2):\n",
    "    assert (val1 == val2),\"Centrality measure calculated incorrectly!\"\n",
    "    return \"Values match, good job!\"\n",
    "\n",
    "check_equal(degree_centrality_grey, nx.degree_centrality(GA)[\"grey\"])"
   ]
  },
  {
   "cell_type": "markdown",
   "metadata": {
    "slideshow": {
     "slide_type": "skip"
    }
   },
   "source": [
    "Likewise, let's find the degree centrality for all characters."
   ]
  },
  {
   "cell_type": "code",
   "execution_count": 7,
   "metadata": {
    "collapsed": false,
    "slideshow": {
     "slide_type": "subslide"
    }
   },
   "outputs": [
    {
     "data": {
      "text/plain": [
       "{'addison': 0.0967741935483871,\n",
       " 'adele': 0.03225806451612903,\n",
       " 'altman': 0.06451612903225806,\n",
       " 'arizona': 0.03225806451612903,\n",
       " 'avery': 0.03225806451612903,\n",
       " 'bailey': 0.06451612903225806,\n",
       " 'ben': 0.03225806451612903,\n",
       " 'chief': 0.06451612903225806,\n",
       " 'colin': 0.03225806451612903,\n",
       " 'denny': 0.03225806451612903,\n",
       " 'derek': 0.06451612903225806,\n",
       " 'ellis grey': 0.06451612903225806,\n",
       " 'finn': 0.03225806451612903,\n",
       " 'grey': 0.12903225806451613,\n",
       " 'hank': 0.03225806451612903,\n",
       " 'izzie': 0.12903225806451613,\n",
       " 'karev': 0.22580645161290322,\n",
       " 'kepner': 0.03225806451612903,\n",
       " 'lexi': 0.0967741935483871,\n",
       " 'mrs. seabury': 0.03225806451612903,\n",
       " 'nancy': 0.03225806451612903,\n",
       " \"o'malley\": 0.12903225806451613,\n",
       " 'olivia': 0.06451612903225806,\n",
       " 'owen': 0.06451612903225806,\n",
       " 'preston': 0.03225806451612903,\n",
       " 'sloan': 0.16129032258064516,\n",
       " 'steve': 0.03225806451612903,\n",
       " 'susan grey': 0.03225806451612903,\n",
       " 'thatch grey': 0.06451612903225806,\n",
       " 'torres': 0.12903225806451613,\n",
       " 'tucker': 0.03225806451612903,\n",
       " 'yang': 0.0967741935483871}"
      ]
     },
     "execution_count": 7,
     "metadata": {},
     "output_type": "execute_result"
    }
   ],
   "source": [
    "degree_centrality = nx.degree_centrality(GA)\n",
    "degree_centrality"
   ]
  },
  {
   "cell_type": "code",
   "execution_count": 8,
   "metadata": {
    "collapsed": false,
    "slideshow": {
     "slide_type": "subslide"
    }
   },
   "outputs": [
    {
     "data": {
      "text/plain": [
       "[('karev', 0.22580645161290322),\n",
       " ('sloan', 0.16129032258064516),\n",
       " ('grey', 0.12903225806451613),\n",
       " (\"o'malley\", 0.12903225806451613),\n",
       " ('izzie', 0.12903225806451613)]"
      ]
     },
     "execution_count": 8,
     "metadata": {},
     "output_type": "execute_result"
    }
   ],
   "source": [
    "# Top 5.  Percent of cast this character has been with.\n",
    "sorted(degree_centrality.items(), key=lambda x: x[1], reverse=True)[:5]"
   ]
  },
  {
   "cell_type": "code",
   "execution_count": 9,
   "metadata": {
    "collapsed": false,
    "slideshow": {
     "slide_type": "fragment"
    }
   },
   "outputs": [
    {
     "data": {
      "text/plain": [
       "[('karev', 7), ('sloan', 5), ('grey', 4), (\"o'malley\", 4), ('izzie', 4)]"
      ]
     },
     "execution_count": 9,
     "metadata": {},
     "output_type": "execute_result"
    }
   ],
   "source": [
    "# Top 5.  Total # of partners this character has been with.\n",
    "sorted(GA.degree().items(), key=lambda x: x[1], reverse=True)[:5]"
   ]
  },
  {
   "cell_type": "code",
   "execution_count": 10,
   "metadata": {
    "collapsed": true,
    "slideshow": {
     "slide_type": "subslide"
    }
   },
   "outputs": [],
   "source": [
    "# apply measurements back to Graph\n",
    "nx.set_node_attributes(GA, 'degree centrality', degree_centrality)"
   ]
  },
  {
   "cell_type": "code",
   "execution_count": 11,
   "metadata": {
    "collapsed": false,
    "slideshow": {
     "slide_type": "fragment"
    }
   },
   "outputs": [
    {
     "data": {
      "text/plain": [
       "{'degree centrality': 0.22580645161290322, 'label': 'karev'}"
      ]
     },
     "execution_count": 11,
     "metadata": {},
     "output_type": "execute_result"
    }
   ],
   "source": [
    "GA.node['karev']"
   ]
  },
  {
   "cell_type": "markdown",
   "metadata": {
    "slideshow": {
     "slide_type": "slide"
    }
   },
   "source": [
    "## Closeness Centrality\n",
    "Closeness Centrality measures how many \"hops\" it would take to reach every other node in a network (taking the shortest path). It can be informally thought as 'average distance' to all other nodes.\n",
    "\n",
    "<img style=\"float: center\" src=\"https://toreopsahl.files.wordpress.com/2008/12/geodesic-n1.png?w=455\">\n",
    "\n",
    "In NetworkX, it the reciporical of of the *average* value, which normalizes the value in a 0 to 1 range. \n",
    "\n",
    "$$ C_C (u) = \\frac{n - 1}{\\sum_{v=1}^{n-1} d(v, u)} $$\n",
    "\n",
    "If you again take the reciporical of this, you'll find the *average* distance to all other nodes."
   ]
  },
  {
   "cell_type": "markdown",
   "metadata": {
    "slideshow": {
     "slide_type": "notes"
    }
   },
   "source": [
    "\n",
    "⚠️ __NOTE__: `If the graph is not completely connected, this algorithm computes the closeness centrality for each connected part separately.  The closeness centrality is normalized to (n-1)/(|G|-1) where n is the number of nodes in the connected part of graph containing the node.` [[Source](https://networkx.github.io/documentation/development/_modules/networkx/algorithms/centrality/closeness.html)]"
   ]
  },
  {
   "cell_type": "markdown",
   "metadata": {
    "slideshow": {
     "slide_type": "notes"
    }
   },
   "source": [
    "__Why should we care about closeness centrality?__\n",
    "\n",
    "> Degree centrality measures might be criticized because they only take into account the immediate ties that an actor has, or the ties of the actor's neighbors, rather than indirect ties to all others. One actor might be tied to a large number of others, but those others might be rather disconnected from the network as a whole. In a case like this, the actor could be quite central, but only in a local neighborhood. [[Source](http://www.faculty.ucr.edu/~hanneman/nettext/C10_Centrality.html#Closeness)]\n",
    "\n",
    "In our example, closeness centrality could perhaps help us understand which characters have the greatest potential to spread an infectous disease or STD across the cast (an admittedly dark plot arc)."
   ]
  },
  {
   "cell_type": "markdown",
   "metadata": {
    "slideshow": {
     "slide_type": "skip"
    }
   },
   "source": [
    "Let's calculate the closeness centrality for `Grey`.  First we'll start by getting the shortest paths between `Grey` and all other characters."
   ]
  },
  {
   "cell_type": "code",
   "execution_count": 12,
   "metadata": {
    "collapsed": false,
    "slideshow": {
     "slide_type": "skip"
    }
   },
   "outputs": [
    {
     "data": {
      "text/plain": [
       "{'addison': 2,\n",
       " 'altman': 4,\n",
       " 'arizona': 3,\n",
       " 'avery': 5,\n",
       " 'colin': 7,\n",
       " 'denny': 3,\n",
       " 'derek': 1,\n",
       " 'finn': 1,\n",
       " 'grey': 0,\n",
       " 'hank': 3,\n",
       " 'izzie': 2,\n",
       " 'karev': 3,\n",
       " 'kepner': 4,\n",
       " 'lexi': 4,\n",
       " 'mrs. seabury': 4,\n",
       " 'nancy': 4,\n",
       " \"o'malley\": 1,\n",
       " 'olivia': 2,\n",
       " 'owen': 5,\n",
       " 'preston': 7,\n",
       " 'sloan': 3,\n",
       " 'steve': 1,\n",
       " 'torres': 2,\n",
       " 'yang': 6}"
      ]
     },
     "execution_count": 12,
     "metadata": {},
     "output_type": "execute_result"
    }
   ],
   "source": [
    "# Shortest path between Grey and other characters\n",
    "grey_shortest_path = nx.shortest_path_length(GA)['grey']\n",
    "grey_shortest_path"
   ]
  },
  {
   "cell_type": "code",
   "execution_count": 13,
   "metadata": {
    "collapsed": false,
    "slideshow": {
     "slide_type": "skip"
    }
   },
   "outputs": [
    {
     "name": "stdout",
     "output_type": "stream",
     "text": [
      "Calculated closeness centrality for Grey: 0.4025974025974026\n",
      "Networkx closeness centrality for Grey: 0.2216170925848345\n"
     ]
    },
    {
     "ename": "AssertionError",
     "evalue": "Centrality measure calculated incorrectly!",
     "output_type": "error",
     "traceback": [
      "\u001b[0;31m---------------------------------------------------------------------------\u001b[0m",
      "\u001b[0;31mAssertionError\u001b[0m                            Traceback (most recent call last)",
      "\u001b[0;32m<ipython-input-13-fc22a437e78e>\u001b[0m in \u001b[0;36m<module>\u001b[0;34m()\u001b[0m\n\u001b[1;32m      9\u001b[0m \u001b[0mprint\u001b[0m\u001b[0;34m(\u001b[0m\u001b[0;34m\"Networkx closeness centrality for Grey:\"\u001b[0m\u001b[0;34m,\u001b[0m \u001b[0mnx\u001b[0m\u001b[0;34m.\u001b[0m\u001b[0mcloseness_centrality\u001b[0m\u001b[0;34m(\u001b[0m\u001b[0mGA\u001b[0m\u001b[0;34m)\u001b[0m\u001b[0;34m[\u001b[0m\u001b[0;34m\"grey\"\u001b[0m\u001b[0;34m]\u001b[0m\u001b[0;34m)\u001b[0m\u001b[0;34m\u001b[0m\u001b[0m\n\u001b[1;32m     10\u001b[0m \u001b[0;34m\u001b[0m\u001b[0m\n\u001b[0;32m---> 11\u001b[0;31m \u001b[0mcheck_equal\u001b[0m\u001b[0;34m(\u001b[0m\u001b[0mcloseness_centrality_grey\u001b[0m\u001b[0;34m,\u001b[0m \u001b[0mnx\u001b[0m\u001b[0;34m.\u001b[0m\u001b[0mcloseness_centrality\u001b[0m\u001b[0;34m(\u001b[0m\u001b[0mGA\u001b[0m\u001b[0;34m)\u001b[0m\u001b[0;34m[\u001b[0m\u001b[0;34m\"grey\"\u001b[0m\u001b[0;34m]\u001b[0m\u001b[0;34m)\u001b[0m\u001b[0;34m\u001b[0m\u001b[0m\n\u001b[0m",
      "\u001b[0;32m<ipython-input-6-ebc10af03687>\u001b[0m in \u001b[0;36mcheck_equal\u001b[0;34m(val1, val2)\u001b[0m\n\u001b[1;32m     13\u001b[0m \u001b[0;34m\u001b[0m\u001b[0m\n\u001b[1;32m     14\u001b[0m \u001b[0;32mdef\u001b[0m \u001b[0mcheck_equal\u001b[0m\u001b[0;34m(\u001b[0m\u001b[0mval1\u001b[0m\u001b[0;34m,\u001b[0m \u001b[0mval2\u001b[0m\u001b[0;34m)\u001b[0m\u001b[0;34m:\u001b[0m\u001b[0;34m\u001b[0m\u001b[0m\n\u001b[0;32m---> 15\u001b[0;31m     \u001b[0;32massert\u001b[0m \u001b[0;34m(\u001b[0m\u001b[0mval1\u001b[0m \u001b[0;34m==\u001b[0m \u001b[0mval2\u001b[0m\u001b[0;34m)\u001b[0m\u001b[0;34m,\u001b[0m\u001b[0;34m\"Centrality measure calculated incorrectly!\"\u001b[0m\u001b[0;34m\u001b[0m\u001b[0m\n\u001b[0m\u001b[1;32m     16\u001b[0m     \u001b[0;32mreturn\u001b[0m \u001b[0;34m\"Values match, good job!\"\u001b[0m\u001b[0;34m\u001b[0m\u001b[0m\n\u001b[1;32m     17\u001b[0m \u001b[0;34m\u001b[0m\u001b[0m\n",
      "\u001b[0;31mAssertionError\u001b[0m: Centrality measure calculated incorrectly!"
     ]
    }
   ],
   "source": [
    "# Sum of the shortest paths to all other characters\n",
    "grey_sum_shortest_path = sum(grey_shortest_path.values())  # 77\n",
    "\n",
    "# Closeness centrality for Grey\n",
    "closeness_centrality_grey = (total_nodes_minus_grey / grey_sum_shortest_path)\n",
    "print(\"Calculated closeness centrality for Grey:\", closeness_centrality_grey)\n",
    "\n",
    "# Double check\n",
    "print(\"Networkx closeness centrality for Grey:\", nx.closeness_centrality(GA)[\"grey\"])\n",
    "\n",
    "check_equal(closeness_centrality_grey, nx.closeness_centrality(GA)[\"grey\"])"
   ]
  },
  {
   "cell_type": "markdown",
   "metadata": {
    "slideshow": {
     "slide_type": "skip"
    }
   },
   "source": [
    "Interesting...our calculated measure is not the same as the one in NetworkX.  \n",
    "\n",
    "_What happened here?_\n",
    "\n",
    "This error occured because __the character relationship graph is not fully connected.__ (i.e., there are groups of characters that do not have relationships with one another)."
   ]
  },
  {
   "cell_type": "code",
   "execution_count": 14,
   "metadata": {
    "collapsed": false,
    "slideshow": {
     "slide_type": "skip"
    }
   },
   "outputs": [
    {
     "data": {
      "text/plain": [
       "[{'addison',\n",
       "  'altman',\n",
       "  'arizona',\n",
       "  'avery',\n",
       "  'colin',\n",
       "  'denny',\n",
       "  'derek',\n",
       "  'finn',\n",
       "  'grey',\n",
       "  'hank',\n",
       "  'izzie',\n",
       "  'karev',\n",
       "  'kepner',\n",
       "  'lexi',\n",
       "  'mrs. seabury',\n",
       "  'nancy',\n",
       "  \"o'malley\",\n",
       "  'olivia',\n",
       "  'owen',\n",
       "  'preston',\n",
       "  'sloan',\n",
       "  'steve',\n",
       "  'torres',\n",
       "  'yang'},\n",
       " {'adele', 'chief', 'ellis grey', 'susan grey', 'thatch grey'},\n",
       " {'bailey', 'ben', 'tucker'}]"
      ]
     },
     "execution_count": 14,
     "metadata": {},
     "output_type": "execute_result"
    }
   ],
   "source": [
    "# View members of different subgraphs\n",
    "sorted(nx.connected_components(GA), key = len, reverse=True)"
   ]
  },
  {
   "cell_type": "markdown",
   "metadata": {
    "slideshow": {
     "slide_type": "skip"
    }
   },
   "source": [
    "To correct for this, we will use the number of nodes in the `Grey` subgraph instead of the total number of nodes to calculated degree centrality.  Additionally, we'll normalized to `(n-1)/(|G|-1)` where `n` is the number of nodes in the connected part of graph containing the node."
   ]
  },
  {
   "cell_type": "code",
   "execution_count": 15,
   "metadata": {
    "collapsed": false,
    "slideshow": {
     "slide_type": "skip"
    }
   },
   "outputs": [
    {
     "name": "stdout",
     "output_type": "stream",
     "text": [
      "Calculated closeness centrality for Grey (normalized): 0.2216170925848345\n",
      "Networkx closeness centrality for Grey: 0.2216170925848345\n"
     ]
    },
    {
     "data": {
      "text/plain": [
       "'Values match, good job!'"
      ]
     },
     "execution_count": 15,
     "metadata": {},
     "output_type": "execute_result"
    }
   ],
   "source": [
    "# Number of nodes in Grey subgraph, excluding Grey\n",
    "total_nodes_minus_grey_sub = len(grey_shortest_path)-1   # 23\n",
    "\n",
    "# Closeness centrality for Grey (unnormalized)\n",
    "closeness_centrality_grey = (total_nodes_minus_grey_sub / grey_sum_shortest_path)   # ~0.2987\n",
    "\n",
    "# Closeness centrality for Grey (normalized)\n",
    "closeness_centrality_grey_normalized = closeness_centrality_grey * (total_nodes_minus_grey_sub/total_nodes_minus_grey)\n",
    "print(\"Calculated closeness centrality for Grey (normalized):\", closeness_centrality_grey_normalized)\n",
    "\n",
    "# Double check\n",
    "print(\"Networkx closeness centrality for Grey:\", nx.closeness_centrality(GA)[\"grey\"])\n",
    "\n",
    "check_equal(closeness_centrality_grey_normalized, nx.closeness_centrality(GA)[\"grey\"])"
   ]
  },
  {
   "cell_type": "markdown",
   "metadata": {
    "slideshow": {
     "slide_type": "skip"
    }
   },
   "source": [
    "Let's find the closeness centrality for all characters."
   ]
  },
  {
   "cell_type": "code",
   "execution_count": 16,
   "metadata": {
    "collapsed": false,
    "slideshow": {
     "slide_type": "subslide"
    }
   },
   "outputs": [
    {
     "data": {
      "text/plain": [
       "{'addison': 0.2892290869327502,\n",
       " 'adele': 0.05161290322580645,\n",
       " 'altman': 0.2337604949182501,\n",
       " 'arizona': 0.21600653327888933,\n",
       " 'avery': 0.19614386355209493,\n",
       " 'bailey': 0.06451612903225806,\n",
       " 'ben': 0.04301075268817204,\n",
       " 'chief': 0.07373271889400922,\n",
       " 'colin': 0.13228307076769194,\n",
       " 'denny': 0.18752215526409075,\n",
       " 'derek': 0.2337604949182501,\n",
       " 'ellis grey': 0.08602150537634408,\n",
       " 'finn': 0.17236884978820463,\n",
       " 'grey': 0.2216170925848345,\n",
       " 'hank': 0.18752215526409075,\n",
       " 'izzie': 0.24731182795698925,\n",
       " 'karev': 0.2892290869327502,\n",
       " 'kepner': 0.21067303863002787,\n",
       " 'lexi': 0.26253101736972706,\n",
       " 'mrs. seabury': 0.21067303863002787,\n",
       " 'nancy': 0.21067303863002787,\n",
       " \"o'malley\": 0.2708653353814644,\n",
       " 'olivia': 0.2337604949182501,\n",
       " 'owen': 0.19173613628126135,\n",
       " 'preston': 0.13228307076769194,\n",
       " 'sloan': 0.2892290869327502,\n",
       " 'steve': 0.17236884978820463,\n",
       " 'susan grey': 0.05161290322580645,\n",
       " 'thatch grey': 0.07373271889400922,\n",
       " 'torres': 0.29937747594793435,\n",
       " 'tucker': 0.04301075268817204,\n",
       " 'yang': 0.1594814591498342}"
      ]
     },
     "execution_count": 16,
     "metadata": {},
     "output_type": "execute_result"
    }
   ],
   "source": [
    "closeness_centrality = nx.closeness_centrality(GA)\n",
    "closeness_centrality"
   ]
  },
  {
   "cell_type": "code",
   "execution_count": 17,
   "metadata": {
    "collapsed": false,
    "slideshow": {
     "slide_type": "subslide"
    }
   },
   "outputs": [
    {
     "data": {
      "text/plain": [
       "[('torres', 0.29937747594793435),\n",
       " ('sloan', 0.2892290869327502),\n",
       " ('addison', 0.2892290869327502),\n",
       " ('karev', 0.2892290869327502),\n",
       " (\"o'malley\", 0.2708653353814644)]"
      ]
     },
     "execution_count": 17,
     "metadata": {},
     "output_type": "execute_result"
    }
   ],
   "source": [
    "# top 5\n",
    "sorted(closeness_centrality.items(), key=lambda x: x[1], reverse=True)[:5]"
   ]
  },
  {
   "cell_type": "code",
   "execution_count": 18,
   "metadata": {
    "collapsed": true,
    "slideshow": {
     "slide_type": "skip"
    }
   },
   "outputs": [],
   "source": [
    "# apply measurements back to Graph\n",
    "nx.set_node_attributes(GA, 'closeness centrality', closeness_centrality)"
   ]
  },
  {
   "cell_type": "code",
   "execution_count": 19,
   "metadata": {
    "collapsed": false,
    "slideshow": {
     "slide_type": "fragment"
    }
   },
   "outputs": [
    {
     "data": {
      "text/plain": [
       "3.340264650283554"
      ]
     },
     "execution_count": 19,
     "metadata": {},
     "output_type": "execute_result"
    }
   ],
   "source": [
    "# average distance of torres:\n",
    "1 / closeness_centrality['torres']"
   ]
  },
  {
   "cell_type": "code",
   "execution_count": 20,
   "metadata": {
    "collapsed": false,
    "slideshow": {
     "slide_type": "skip"
    }
   },
   "outputs": [
    {
     "data": {
      "text/plain": [
       "0.22580645161290322"
      ]
     },
     "execution_count": 20,
     "metadata": {},
     "output_type": "execute_result"
    }
   ],
   "source": [
    "7/(len(GA.nodes()) - 1)"
   ]
  },
  {
   "cell_type": "markdown",
   "metadata": {
    "slideshow": {
     "slide_type": "slide"
    }
   },
   "source": [
    "## Betweeness Centrality\n",
    "\n",
    "Betweenness centrality quantifies the number of times a node acts as a bridge (or \"broker\") along the shortest path between two other nodes.  \n",
    "\n",
    "![](https://intl520-summer2011-mas.wikispaces.com/file/view/Simple_Network.gif/238734999/480x360/Simple_Network.gif)\n",
    "\n",
    "In this conception, vertices that have a high probability to occur on a randomly chosen shortest path between two randomly chosen vertices have a high betweenness.\n",
    "\n",
    "$$ C_B(v) =\\sum_{s,t \\in V} \\frac{\\sigma(s, t|v)}{\\sigma(s, t)} $$\n",
    "\n",
    "where ${\\sigma(s, t)}$ is total number of shortest paths from node ${s}$ to node ${t}$ and ${\\sigma(s, t|v)}$ is the number of those paths that pass through ${v}$."
   ]
  },
  {
   "cell_type": "markdown",
   "metadata": {
    "slideshow": {
     "slide_type": "notes"
    }
   },
   "source": [
    "__Why is betweeness centrality important?__\n",
    "\n",
    "> Suppose that I want to influence you by sending you information, or make a deal to exchange some resources. But, in order to talk to you, I must go through an intermediary. For example, let's suppose that I wanted to try to convince the Chancellor of my university to buy me a new computer. According to the rules of our bureaucratic hierarchy, I must forward my request through my department chair, a dean, and an executive vice chancellor. Each one of these people could delay the request, or even prevent my request from getting through. This gives the people who lie \"between\" me and the Chancellor power with respect to me... Having more than one channel makes me less dependent, and, in a sense, more powerful.  [[Source](http://www.faculty.ucr.edu/~hanneman/nettext/C10_Centrality.html#Closeness)]\n",
    "\n",
    "While this metric seems less relevent to our particular network, let's create a hypothetical situation:\n",
    "\n",
    "To engage with a new romantic partner, you needed permission from at least one of their former partners and you could only send your request through existing partners (_awkward_ 😬).  Betweeness centrality would tell you which actors had the most effective veto power to thwart random requests made by a member to another random member in the network."
   ]
  },
  {
   "cell_type": "code",
   "execution_count": 21,
   "metadata": {
    "collapsed": false,
    "slideshow": {
     "slide_type": "subslide"
    }
   },
   "outputs": [
    {
     "data": {
      "text/plain": [
       "{'addison': 0.09480286738351254,\n",
       " 'adele': 0.0,\n",
       " 'altman': 0.16344086021505377,\n",
       " 'arizona': 0.0,\n",
       " 'avery': 0.0,\n",
       " 'bailey': 0.002150537634408602,\n",
       " 'ben': 0.0,\n",
       " 'chief': 0.0064516129032258064,\n",
       " 'colin': 0.0,\n",
       " 'denny': 0.0,\n",
       " 'derek': 0.03860215053763442,\n",
       " 'ellis grey': 0.008602150537634409,\n",
       " 'finn': 0.0,\n",
       " 'grey': 0.10078853046594982,\n",
       " 'hank': 0.0,\n",
       " 'izzie': 0.10311827956989247,\n",
       " 'karev': 0.20487455197132612,\n",
       " 'kepner': 0.0,\n",
       " 'lexi': 0.07741935483870968,\n",
       " 'mrs. seabury': 0.0,\n",
       " 'nancy': 0.0,\n",
       " \"o'malley\": 0.11702508960573478,\n",
       " 'olivia': 0.01064516129032258,\n",
       " 'owen': 0.12903225806451613,\n",
       " 'preston': 0.0,\n",
       " 'sloan': 0.248100358422939,\n",
       " 'steve': 0.0,\n",
       " 'susan grey': 0.0,\n",
       " 'thatch grey': 0.0064516129032258064,\n",
       " 'torres': 0.14440860215053763,\n",
       " 'tucker': 0.0,\n",
       " 'yang': 0.09247311827956989}"
      ]
     },
     "execution_count": 21,
     "metadata": {},
     "output_type": "execute_result"
    }
   ],
   "source": [
    "betweeness_centrality = nx.betweenness_centrality(GA)\n",
    "betweeness_centrality"
   ]
  },
  {
   "cell_type": "code",
   "execution_count": 22,
   "metadata": {
    "collapsed": false,
    "slideshow": {
     "slide_type": "subslide"
    }
   },
   "outputs": [
    {
     "data": {
      "text/plain": [
       "[('sloan', 0.248100358422939),\n",
       " ('karev', 0.20487455197132612),\n",
       " ('altman', 0.16344086021505377),\n",
       " ('torres', 0.14440860215053763),\n",
       " ('owen', 0.12903225806451613)]"
      ]
     },
     "execution_count": 22,
     "metadata": {},
     "output_type": "execute_result"
    }
   ],
   "source": [
    "# top 5\n",
    "sorted(betweeness_centrality.items(), key=lambda x: x[1], reverse=True)[:5]"
   ]
  },
  {
   "cell_type": "markdown",
   "metadata": {
    "slideshow": {
     "slide_type": "slide"
    }
   },
   "source": [
    "## Eigenvector Centrality\n",
    "\n",
    "A node is high in eigenvector centrality if it is connected to many other nodes who are themselves well connected. Eigenvector centrality for each node is simply calculated as the proportional eigenvector values of the eigenvector with the largest eigenvalue.\n",
    "\n",
    "<img align=\"middle\" src=\"https://upload.wikimedia.org/wikipedia/commons/thumb/1/11/6_centrality_measures.png/350px-6_centrality_measures.png\">\n",
    "\n",
    "_**Middle Left (\"C\"):** Eigenvector Centrality.  **Middle Right (\"D\"):** Degree Centrality_\n",
    "\n"
   ]
  },
  {
   "cell_type": "code",
   "execution_count": 23,
   "metadata": {
    "collapsed": false,
    "slideshow": {
     "slide_type": "subslide"
    }
   },
   "outputs": [
    {
     "data": {
      "text/plain": [
       "{'addison': 0.27840139594529484,\n",
       " 'adele': 5.058876862528936e-17,\n",
       " 'altman': 0.10442628192357334,\n",
       " 'arizona': 0.10564201543690817,\n",
       " 'avery': 0.07734385472828524,\n",
       " 'bailey': -2.195339193913248e-16,\n",
       " 'ben': -1.5057529497486453e-16,\n",
       " 'chief': 4.108700022015808e-17,\n",
       " 'colin': 0.0035243897348137374,\n",
       " 'denny': 0.0832030185430171,\n",
       " 'derek': 0.12570740328311875,\n",
       " 'ellis grey': 1.969945244481185e-18,\n",
       " 'finn': 0.04422017135181157,\n",
       " 'grey': 0.1510783608855737,\n",
       " 'hank': 0.08320301854301704,\n",
       " 'izzie': 0.28426338654827654,\n",
       " 'karev': 0.5027687871890412,\n",
       " 'kepner': 0.14715887695313748,\n",
       " 'lexi': 0.2642455341015448,\n",
       " 'mrs. seabury': 0.14715887695313762,\n",
       " 'nancy': 0.09444834886225349,\n",
       " \"o'malley\": 0.3020119709505961,\n",
       " 'olivia': 0.23555685153699446,\n",
       " 'owen': 0.03408964112637771,\n",
       " 'preston': 0.003524389734813675,\n",
       " 'sloan': 0.32268309457542504,\n",
       " 'steve': 0.044220171351811575,\n",
       " 'susan grey': -2.2838591730981282e-17,\n",
       " 'thatch grey': -2.687699295880897e-17,\n",
       " 'torres': 0.36092629324926223,\n",
       " 'tucker': -1.3686099029957458e-16,\n",
       " 'yang': 0.01204108912245926}"
      ]
     },
     "execution_count": 23,
     "metadata": {},
     "output_type": "execute_result"
    }
   ],
   "source": [
    "eigenvector_centrality = nx.eigenvector_centrality_numpy(GA)\n",
    "eigenvector_centrality"
   ]
  },
  {
   "cell_type": "code",
   "execution_count": 24,
   "metadata": {
    "collapsed": false,
    "slideshow": {
     "slide_type": "subslide"
    }
   },
   "outputs": [
    {
     "data": {
      "text/plain": [
       "[('karev', 1.0),\n",
       " ('torres', 0.7178772876239707),\n",
       " ('sloan', 0.6418121068722911),\n",
       " (\"o'malley\", 0.6006975346244785),\n",
       " ('izzie', 0.5653958515157256)]"
      ]
     },
     "execution_count": 24,
     "metadata": {},
     "output_type": "execute_result"
    }
   ],
   "source": [
    "max_value = max(eigenvector_centrality.items(), key=lambda x: x[1])\n",
    "\n",
    "ec_scaled = {}\n",
    "for k in eigenvector_centrality.keys():\n",
    "    ec_scaled[k] = eigenvector_centrality[k] / max_value[1]\n",
    "\n",
    "# Scaled by the most central character (karev)\n",
    "sorted(ec_scaled.items(), key=lambda x:x[1], reverse=True)[0:5]"
   ]
  },
  {
   "cell_type": "markdown",
   "metadata": {
    "collapsed": false,
    "slideshow": {
     "slide_type": "slide"
    }
   },
   "source": [
    "## Other Centrality Measures\n",
    "\n",
    "* [Harmonic Centrality](https://networkx.readthedocs.io/en/latest/reference/generated/networkx.algorithms.centrality.harmonic_centrality.html)\n",
    "* [Katz Centrality](https://en.wikipedia.org/wiki/Katz_centrality)\n",
    "* [Game Theoretic Centrality](http://game-theoretic-centrality.com/)\n"
   ]
  }
 ],
 "metadata": {
  "celltoolbar": "Slideshow",
  "kernelspec": {
   "display_name": "Python 3",
   "language": "python",
   "name": "python3"
  },
  "language_info": {
   "codemirror_mode": {
    "name": "ipython",
    "version": 3
   },
   "file_extension": ".py",
   "mimetype": "text/x-python",
   "name": "python",
   "nbconvert_exporter": "python",
   "pygments_lexer": "ipython3",
   "version": "3.5.2"
  }
 },
 "nbformat": 4,
 "nbformat_minor": 0
}
